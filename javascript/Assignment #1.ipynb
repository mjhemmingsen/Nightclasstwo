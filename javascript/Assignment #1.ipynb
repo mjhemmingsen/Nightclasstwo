{
 "cells": [
  {
   "cell_type": "markdown",
   "metadata": {},
   "source": [
    "## Assignment #1 using jQuery\n",
    "---\n",
    "\n",
    "#### Important!!!\n",
    "\n",
    "Don't forget to link jquery to the bottom of your html file but above the rest of your script tags. It should be the first script tag on the bottom of the body.\n",
    "\n",
    "### jQuery script tag\n",
    "\n",
    "copy and paste this script tag for the jQuery library \n",
    "\n",
    "```javascript\n",
    "<script src=\"https://ajax.googleapis.com/ajax/libs/jquery/3.1.1/jquery.min.js\"></script>\n",
    "```\n",
    "\n",
    "## Directions\n",
    "\n",
    "* Create two input boxes with two appropriatly labeled h1 headers above each one\n",
    "    * Each input box will represent a number inputted \n",
    "    * Don't forget to use parseInt(number) to cast the value from the input box to an integer\n",
    "* Create 4 buttons inside a container div with a flex display and space-around the text for the buttons should be as follows\n",
    "    * Add\n",
    "    * Subtract\n",
    "    * Multiply\n",
    "    * Divide\n",
    "    \n",
    "* Now in your javascript create the following 4 seperate functions \n",
    "    * **add** \n",
    "        * adds two numbers together and console.logs the result\n",
    "    * **subtract**\n",
    "        * subtracts two numbers together and console.logs the result\n",
    "    * **multiply**\n",
    "        * multiplies two numbers together and console.logs the result\n",
    "    * **divide**\n",
    "        * divides two numbers together and console.logs the result\n",
    "        \n",
    "** All functions will take two integer input parameters and console.log the result **\n",
    "\n",
    "**Important do not use any jQuery selectors in the above functions you will use your selectors in your onclick anonymous function**\n",
    "\n",
    "**Remember to create a button click event in jQuery use the following**\n",
    "\n",
    "```javascript\n",
    "$(selector).on('click', function(){\n",
    "    // Code goes here\n",
    "});\n",
    "\n",
    "```\n",
    "\n",
    "    "
   ]
  },
  {
   "cell_type": "markdown",
   "metadata": {},
   "source": [
    "## Part 2\n",
    "\n",
    "* Now create 4 seperate button click events for each button with the following properties\n",
    "\n",
    "    * When a button is clicked grab the two values in the input boxs\n",
    "    * pass those as the input parameters to the appropriate function example if add button is clicked run the add function and so on\n"
   ]
  },
  {
   "cell_type": "markdown",
   "metadata": {},
   "source": [
    "## Part 3\n",
    "\n",
    "once you get all that working now add the code to codepen and add a link to the codepen on your bio website then push the changes of **only** your bio website to github that way I can just click the link and see all your code in one place"
   ]
  },
  {
   "cell_type": "markdown",
   "metadata": {},
   "source": [
    "## Advanced\n",
    "\n",
    "Now instead of using console.log to display the results research on your own how to add html elements to a page using jquery and now display the result on your actual webpage"
   ]
  }
 ],
 "metadata": {
  "kernelspec": {
   "display_name": "Python 3",
   "language": "python",
   "name": "python3"
  },
  "language_info": {
   "codemirror_mode": {
    "name": "ipython",
    "version": 3
   },
   "file_extension": ".py",
   "mimetype": "text/x-python",
   "name": "python",
   "nbconvert_exporter": "python",
   "pygments_lexer": "ipython3",
   "version": "3.6.0"
  }
 },
 "nbformat": 4,
 "nbformat_minor": 2
}
