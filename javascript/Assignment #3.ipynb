{
 "cells": [
  {
   "cell_type": "markdown",
   "metadata": {},
   "source": [
    "## Now use the warmup as a starting point \n",
    "\n",
    "#### **Instead do the following**\n",
    "\n",
    "\n",
    "\n",
    "\n",
    "* change the square to move with a button click instead of when it is clicked\n",
    "\n",
    "* now use the .animate() jquery function to make this move look smoother\n",
    "\n",
    "* create a display to keep track of how many pixels the square is off from it's original position\n",
    "    * for now it will only ever display 0 and 300\n",
    "    \n",
    "    \n",
    "* finally have the square move a random amount of pixels left and a random amount of pixels right\n",
    "    * console.log these moves for debugging \n",
    "    \n",
    "    \n",
    "    \n",
    "## Last part \n",
    "\n",
    "** have the squares background color change based on how close it is to the ending point use the following colors**\n",
    "\n",
    "* blue for 0 to 250px offset\n",
    "\n",
    "* green for 251 to 500px offset\n",
    "\n",
    "* red for 501 to 750px offset\n",
    "\n",
    "** If it passes 750px offset then do the following **\n",
    "\n",
    "* use the .hide() function to hide the square\n",
    "\n",
    "* add a message to the page that says OUT OF BOUNDS\n",
    "    \n"
   ]
  }
 ],
 "metadata": {
  "kernelspec": {
   "display_name": "Python 3",
   "language": "python",
   "name": "python3"
  },
  "language_info": {
   "codemirror_mode": {
    "name": "ipython",
    "version": 3
   },
   "file_extension": ".py",
   "mimetype": "text/x-python",
   "name": "python",
   "nbconvert_exporter": "python",
   "pygments_lexer": "ipython3",
   "version": "3.6.0"
  }
 },
 "nbformat": 4,
 "nbformat_minor": 2
}
