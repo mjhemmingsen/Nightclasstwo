{
 "cells": [
  {
   "cell_type": "markdown",
   "metadata": {},
   "source": [
    "# Visual dice\n",
    "\n",
    "---\n",
    "\n",
    "** FIND 6 PICTURES ONE FOR EACH SIDE OF A DICE AND ADD IT TO YOUR PROJECT **\n",
    "\n",
    "# Part one\n",
    "\n",
    "---\n",
    "\n",
    "** Do the following **\n",
    "\n",
    "* Create a button in your html page\n",
    "\n",
    "* when the button is clicked display a random dice image\n",
    "\n",
    "# Part two\n",
    "\n",
    "---\n",
    "\n",
    "* Now add an input box that the user will enter a number throught\n",
    "\n",
    "* Display that many random dice on the page\n",
    "\n",
    "\n",
    "# Part three\n",
    "\n",
    "---\n",
    "\n",
    "* Display the current total of all the dice that are randomly on the page"
   ]
  }
 ],
 "metadata": {
  "kernelspec": {
   "display_name": "Python 3",
   "language": "python",
   "name": "python3"
  },
  "language_info": {
   "codemirror_mode": {
    "name": "ipython",
    "version": 3
   },
   "file_extension": ".py",
   "mimetype": "text/x-python",
   "name": "python",
   "nbconvert_exporter": "python",
   "pygments_lexer": "ipython3",
   "version": "3.6.0"
  }
 },
 "nbformat": 4,
 "nbformat_minor": 2
}
