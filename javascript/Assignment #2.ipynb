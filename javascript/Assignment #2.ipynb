{
 "cells": [
  {
   "cell_type": "markdown",
   "metadata": {},
   "source": [
    "# Assignment #2\n",
    "\n",
    "---\n",
    "\n",
    "### Before you start do the following\n",
    "\n",
    "\n",
    "#### Create an...\n",
    "\n",
    "* Html file\n",
    "* Css file\n",
    "* Javascript file\n",
    "\n",
    "Now link jQuery and all other files to your HTML file\n",
    "\n",
    "\n",
    "# Part one\n",
    "\n",
    "**In your html file create the following**\n",
    "\n",
    "* a div with class container \n",
    "* one div with class square inside of the container div from above\n",
    "* a button\n",
    "\n",
    "**In your css file style do as follows**\n",
    "\n",
    "* style the square class as follows\n",
    "    * width and height -> 150px each\n",
    "    * background color -> anything you want\n",
    "    \n",
    "* style the container class as follows\n",
    "    * give this a flex row display \n",
    "    * give it space around \n",
    "    * give it a flex wrap property\n",
    "    \n",
    "    \n",
    "    \n",
    "**In your javascript file**\n",
    "\n",
    "* when your button in your html is click add a div with the class square to your html file\n",
    "    \n",
    " "
   ]
  }
 ],
 "metadata": {
  "kernelspec": {
   "display_name": "Python 3",
   "language": "python",
   "name": "python3"
  },
  "language_info": {
   "codemirror_mode": {
    "name": "ipython",
    "version": 3
   },
   "file_extension": ".py",
   "mimetype": "text/x-python",
   "name": "python",
   "nbconvert_exporter": "python",
   "pygments_lexer": "ipython3",
   "version": "3.6.0"
  }
 },
 "nbformat": 4,
 "nbformat_minor": 2
}
