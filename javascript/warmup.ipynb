{
 "cells": [
  {
   "cell_type": "markdown",
   "metadata": {},
   "source": [
    "### Do the following this is the pre-curser to the next assignment \n",
    "\n",
    "---\n",
    "\n",
    "Create a square in your html file that is 150px by 150px make it whatever background color you want\n",
    "\n",
    "give this div a click event so when the square is clicked it moves 300px to the right\n",
    "\n",
    "when it is clicked again it should move back 300px to the left\n",
    "\n",
    "the goal is to have the square move back and forth every time it is clicked"
   ]
  }
 ],
 "metadata": {
  "kernelspec": {
   "display_name": "Python 3",
   "language": "python",
   "name": "python3"
  },
  "language_info": {
   "codemirror_mode": {
    "name": "ipython",
    "version": 3
   },
   "file_extension": ".py",
   "mimetype": "text/x-python",
   "name": "python",
   "nbconvert_exporter": "python",
   "pygments_lexer": "ipython3",
   "version": "3.6.0"
  }
 },
 "nbformat": 4,
 "nbformat_minor": 2
}
